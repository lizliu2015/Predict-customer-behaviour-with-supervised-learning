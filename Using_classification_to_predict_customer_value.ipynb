{
  "nbformat": 4,
  "nbformat_minor": 0,
  "metadata": {
    "colab": {
      "name": "Using classification to predict customer value.ipynb",
      "version": "0.3.2",
      "provenance": [],
      "collapsed_sections": [
        "vVNVWWEXAamr"
      ],
      "include_colab_link": true
    },
    "kernelspec": {
      "name": "python3",
      "display_name": "Python 3"
    }
  },
  "cells": [
    {
      "cell_type": "markdown",
      "metadata": {
        "id": "view-in-github",
        "colab_type": "text"
      },
      "source": [
        "<a href=\"https://colab.research.google.com/github/lizliu2015/Using-classification-to-predict-customer-value/blob/master/Using_classification_to_predict_customer_value.ipynb\" target=\"_parent\"><img src=\"https://colab.research.google.com/assets/colab-badge.svg\" alt=\"Open In Colab\"/></a>"
      ]
    },
    {
      "cell_type": "markdown",
      "metadata": {
        "colab_type": "text",
        "id": "wHRB6lCCnCeY"
      },
      "source": [
        "#Using classification to predict customer value\n",
        "\n",
        "I picked Black Friday dataset on kaggle and did the following things:\n",
        "\n",
        "1.Apply LogisticRegression, SVM, RandomForest classification algorithms, and compare the model performance\n",
        "\n",
        "2.Apply GridSearchCV to find the best hyperparameters for my models\n",
        "\n",
        "3.Assess model performance (confusion matrix, precision, recall, ROC AUC) \n",
        "\n",
        "4.Apply AutoML (Auto sklearn) to build classification model and compare model performance.\n"
      ]
    },
    {
      "cell_type": "markdown",
      "metadata": {
        "id": "47PPXHq7NC_y",
        "colab_type": "text"
      },
      "source": [
        "#Ingestion"
      ]
    },
    {
      "cell_type": "code",
      "metadata": {
        "id": "22y4S-XRucTj",
        "colab_type": "code",
        "colab": {}
      },
      "source": [
        "import numpy as np\n",
        "import pandas as pd\n",
        "import matplotlib.pyplot as plt\n",
        "import seaborn as sns"
      ],
      "execution_count": 0,
      "outputs": []
    },
    {
      "cell_type": "code",
      "metadata": {
        "id": "1Nw67L_7OhoM",
        "colab_type": "code",
        "outputId": "23958dff-b753-45d0-b4ed-cd1eab0efd59",
        "colab": {
          "resources": {
            "http://localhost:8080/nbextensions/google.colab/files.js": {
              "data": "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",
              "ok": true,
              "headers": [
                [
                  "content-type",
                  "application/javascript"
                ]
              ],
              "status": 200,
              "status_text": ""
            }
          },
          "base_uri": "https://localhost:8080/",
          "height": 74
        }
      },
      "source": [
        "#loading kaggle API\n",
        "from google.colab import files\n",
        "files.upload()\n",
        "!pip install -q kaggle\n",
        "!mkdir -p ~/.kaggle\n",
        "!cp kaggle.json ~/.kaggle/\n",
        "#!kaggle datasets list"
      ],
      "execution_count": 0,
      "outputs": [
        {
          "output_type": "display_data",
          "data": {
            "text/html": [
              "\n",
              "     <input type=\"file\" id=\"files-8ae5b79d-79b8-4866-81ab-afd51314f2e7\" name=\"files[]\" multiple disabled />\n",
              "     <output id=\"result-8ae5b79d-79b8-4866-81ab-afd51314f2e7\">\n",
              "      Upload widget is only available when the cell has been executed in the\n",
              "      current browser session. Please rerun this cell to enable.\n",
              "      </output>\n",
              "      <script src=\"/nbextensions/google.colab/files.js\"></script> "
            ],
            "text/plain": [
              "<IPython.core.display.HTML object>"
            ]
          },
          "metadata": {
            "tags": []
          }
        },
        {
          "output_type": "stream",
          "text": [
            "Saving kaggle.json to kaggle (3).json\n"
          ],
          "name": "stdout"
        }
      ]
    },
    {
      "cell_type": "code",
      "metadata": {
        "id": "VWcFS7R6O_OD",
        "colab_type": "code",
        "outputId": "c2f2d4ce-c18d-4765-fe67-63d38a094264",
        "colab": {
          "base_uri": "https://localhost:8080/",
          "height": 51
        }
      },
      "source": [
        "#load kaggle dataset\n",
        "!kaggle datasets download -d mehdidag/black-friday"
      ],
      "execution_count": 0,
      "outputs": [
        {
          "output_type": "stream",
          "text": [
            "Warning: Your Kaggle API key is readable by other users on this system! To fix this, you can run 'chmod 600 /root/.kaggle/kaggle.json'\n",
            "black-friday.zip: Skipping, found more recently modified local copy (use --force to force download)\n"
          ],
          "name": "stdout"
        }
      ]
    },
    {
      "cell_type": "code",
      "metadata": {
        "id": "X780IrfhVF5H",
        "colab_type": "code",
        "outputId": "85da7763-4305-4a4d-d0b1-fca63bf5628c",
        "colab": {
          "base_uri": "https://localhost:8080/",
          "height": 68
        }
      },
      "source": [
        "#unzip file\n",
        "!unzip black-friday.zip -d /dev/shm "
      ],
      "execution_count": 0,
      "outputs": [
        {
          "output_type": "stream",
          "text": [
            "Archive:  black-friday.zip\n",
            "replace /dev/shm/BlackFriday.csv? [y]es, [n]o, [A]ll, [N]one, [r]ename: y\n",
            "  inflating: /dev/shm/BlackFriday.csv  \n"
          ],
          "name": "stdout"
        }
      ]
    },
    {
      "cell_type": "code",
      "metadata": {
        "id": "hKDy5mFoulIo",
        "colab_type": "code",
        "colab": {}
      },
      "source": [
        "#read file\n",
        "df = pd.read_csv('/dev/shm/BlackFriday.csv')"
      ],
      "execution_count": 0,
      "outputs": []
    },
    {
      "cell_type": "markdown",
      "metadata": {
        "id": "vTOJN4xmySbF",
        "colab_type": "text"
      },
      "source": [
        "# Data cleaning"
      ]
    },
    {
      "cell_type": "code",
      "metadata": {
        "id": "uxVuj9n_uzyO",
        "colab_type": "code",
        "outputId": "4aaabc06-2579-413a-f619-ef13d69afb26",
        "colab": {
          "base_uri": "https://localhost:8080/",
          "height": 306
        }
      },
      "source": [
        "df.info()"
      ],
      "execution_count": 0,
      "outputs": [
        {
          "output_type": "stream",
          "text": [
            "<class 'pandas.core.frame.DataFrame'>\n",
            "RangeIndex: 537577 entries, 0 to 537576\n",
            "Data columns (total 12 columns):\n",
            "User_ID                       537577 non-null int64\n",
            "Product_ID                    537577 non-null object\n",
            "Gender                        537577 non-null object\n",
            "Age                           537577 non-null object\n",
            "Occupation                    537577 non-null int64\n",
            "City_Category                 537577 non-null object\n",
            "Stay_In_Current_City_Years    537577 non-null object\n",
            "Marital_Status                537577 non-null int64\n",
            "Product_Category_1            537577 non-null int64\n",
            "Product_Category_2            370591 non-null float64\n",
            "Product_Category_3            164278 non-null float64\n",
            "Purchase                      537577 non-null int64\n",
            "dtypes: float64(2), int64(5), object(5)\n",
            "memory usage: 49.2+ MB\n"
          ],
          "name": "stdout"
        }
      ]
    },
    {
      "cell_type": "code",
      "metadata": {
        "id": "JpSgzBdnQi9g",
        "colab_type": "code",
        "outputId": "aaa04bcd-5df2-4c32-8709-204f11bbd4f8",
        "colab": {
          "base_uri": "https://localhost:8080/",
          "height": 340
        }
      },
      "source": [
        "#checking for missing value\n",
        "print('<Contain NaNs?>')\n",
        "print(df.isnull().any())\n",
        "missing_ser_percentage = (df.isnull().sum()/df.shape[0]*100).sort_values(ascending=False)\n",
        "missing_ser_percentage = missing_ser_percentage[missing_ser_percentage!=0].round(2)\n",
        "missing_ser_percentage.name = 'missing values %'\n",
        "print('\\n<NaN ratio>')\n",
        "print(missing_ser_percentage)"
      ],
      "execution_count": 0,
      "outputs": [
        {
          "output_type": "stream",
          "text": [
            "<Contain NaNs?>\n",
            "User_ID                       False\n",
            "Product_ID                    False\n",
            "Gender                        False\n",
            "Age                           False\n",
            "Occupation                    False\n",
            "City_Category                 False\n",
            "Stay_In_Current_City_Years    False\n",
            "Marital_Status                False\n",
            "Product_Category_1            False\n",
            "Product_Category_2             True\n",
            "Product_Category_3             True\n",
            "Purchase                      False\n",
            "dtype: bool\n",
            "\n",
            "<NaN ratio>\n",
            "Product_Category_3    69.44\n",
            "Product_Category_2    31.06\n",
            "Name: missing values %, dtype: float64\n"
          ],
          "name": "stdout"
        }
      ]
    },
    {
      "cell_type": "code",
      "metadata": {
        "id": "jtrGnSrBQv5Q",
        "colab_type": "code",
        "outputId": "de2d2e5f-03d3-4b4e-ac09-7d42dfa836d9",
        "colab": {
          "base_uri": "https://localhost:8080/",
          "height": 238
        }
      },
      "source": [
        "#filling missing values\n",
        "df.fillna(0,inplace=True)\n",
        "print(df.isnull().sum())"
      ],
      "execution_count": 0,
      "outputs": [
        {
          "output_type": "stream",
          "text": [
            "User_ID                       0\n",
            "Product_ID                    0\n",
            "Gender                        0\n",
            "Age                           0\n",
            "Occupation                    0\n",
            "City_Category                 0\n",
            "Stay_In_Current_City_Years    0\n",
            "Marital_Status                0\n",
            "Product_Category_1            0\n",
            "Product_Category_2            0\n",
            "Product_Category_3            0\n",
            "Purchase                      0\n",
            "dtype: int64\n"
          ],
          "name": "stdout"
        }
      ]
    },
    {
      "cell_type": "code",
      "metadata": {
        "id": "kgx-EX9UyAhr",
        "colab_type": "code",
        "outputId": "1bfa720d-acd3-41c1-ddcd-17ae0291b661",
        "colab": {
          "base_uri": "https://localhost:8080/",
          "height": 777
        }
      },
      "source": [
        "df.hist(figsize = (10,10))"
      ],
      "execution_count": 0,
      "outputs": [
        {
          "output_type": "execute_result",
          "data": {
            "text/plain": [
              "array([[<matplotlib.axes._subplots.AxesSubplot object at 0x7efc9f7bf0f0>,\n",
              "        <matplotlib.axes._subplots.AxesSubplot object at 0x7efc9d4c6b00>,\n",
              "        <matplotlib.axes._subplots.AxesSubplot object at 0x7efc9d471d68>],\n",
              "       [<matplotlib.axes._subplots.AxesSubplot object at 0x7efc9d498fd0>,\n",
              "        <matplotlib.axes._subplots.AxesSubplot object at 0x7efc9d448278>,\n",
              "        <matplotlib.axes._subplots.AxesSubplot object at 0x7efc9d3ef4e0>],\n",
              "       [<matplotlib.axes._subplots.AxesSubplot object at 0x7efc9d417748>,\n",
              "        <matplotlib.axes._subplots.AxesSubplot object at 0x7efc9d3c0a20>,\n",
              "        <matplotlib.axes._subplots.AxesSubplot object at 0x7efc9d3c0a58>]],\n",
              "      dtype=object)"
            ]
          },
          "metadata": {
            "tags": []
          },
          "execution_count": 22
        },
        {
          "output_type": "display_data",
          "data": {
            "image/png": "[encoded data removed]",
            "text/plain": [
              "<Figure size 720x720 with 9 Axes>"
            ]
          },
          "metadata": {
            "tags": []
          }
        }
      ]
    },
    {
      "cell_type": "markdown",
      "metadata": {
        "id": "i0aPO98-Ra2q",
        "colab_type": "text"
      },
      "source": [
        "#EDA"
      ]
    },
    {
      "cell_type": "code",
      "metadata": {
        "id": "X0PtNQZKR-e0",
        "colab_type": "code",
        "outputId": "0f793caa-ac70-4975-9f0b-595fb2a0d4b7",
        "colab": {
          "base_uri": "https://localhost:8080/",
          "height": 300
        }
      },
      "source": [
        "sns.countplot(df['Gender'])"
      ],
      "execution_count": 0,
      "outputs": [
        {
          "output_type": "execute_result",
          "data": {
            "text/plain": [
              "<matplotlib.axes._subplots.AxesSubplot at 0x7fa0c81ced30>"
            ]
          },
          "metadata": {
            "tags": []
          },
          "execution_count": 9
        },
        {
          "output_type": "display_data",
          "data": {
            "image/png": "[encoded data removed]",
            "text/plain": [
              "<Figure size 432x288 with 1 Axes>"
            ]
          },
          "metadata": {
            "tags": []
          }
        }
      ]
    },
    {
      "cell_type": "code",
      "metadata": {
        "id": "04okFtaKRnfC",
        "colab_type": "code",
        "outputId": "cd9241ad-2341-44e7-c589-569edf55ae35",
        "colab": {
          "base_uri": "https://localhost:8080/",
          "height": 300
        }
      },
      "source": [
        "sns.countplot(df['Age'])"
      ],
      "execution_count": 0,
      "outputs": [
        {
          "output_type": "execute_result",
          "data": {
            "text/plain": [
              "<matplotlib.axes._subplots.AxesSubplot at 0x7fa0c5863da0>"
            ]
          },
          "metadata": {
            "tags": []
          },
          "execution_count": 10
        },
        {
          "output_type": "display_data",
          "data": {
            "image/png": "[encoded data removed]",
            "text/plain": [
              "<Figure size 432x288 with 1 Axes>"
            ]
          },
          "metadata": {
            "tags": []
          }
        }
      ]
    },
    {
      "cell_type": "code",
      "metadata": {
        "id": "MH_GrT3gSC4K",
        "colab_type": "code",
        "outputId": "e872e95a-65b5-4b8f-effd-eff9a1a75e98",
        "colab": {
          "base_uri": "https://localhost:8080/",
          "height": 300
        }
      },
      "source": [
        "sns.countplot(df['Age'],hue=df['Gender'])"
      ],
      "execution_count": 0,
      "outputs": [
        {
          "output_type": "execute_result",
          "data": {
            "text/plain": [
              "<matplotlib.axes._subplots.AxesSubplot at 0x7fa0c5826390>"
            ]
          },
          "metadata": {
            "tags": []
          },
          "execution_count": 11
        },
        {
          "output_type": "display_data",
          "data": {
            "image/png": "[encoded data removed]",
            "text/plain": [
              "<Figure size 432x288 with 1 Axes>"
            ]
          },
          "metadata": {
            "tags": []
          }
        }
      ]
    },
    {
      "cell_type": "markdown",
      "metadata": {
        "id": "wRhcvzwVEOB8",
        "colab_type": "text"
      },
      "source": [
        "# Modeling"
      ]
    },
    {
      "cell_type": "markdown",
      "metadata": {
        "id": "_R6mnkFbTj3j",
        "colab_type": "text"
      },
      "source": [
        "##Feature engineering"
      ]
    },
    {
      "cell_type": "code",
      "metadata": {
        "id": "rIjyERyOThZQ",
        "colab_type": "code",
        "colab": {}
      },
      "source": [
        "from sklearn.model_selection import GridSearchCV\n",
        "from sklearn.model_selection import learning_curve\n",
        "from sklearn.preprocessing import LabelEncoder\n",
        "from sklearn.preprocessing import StandardScaler\n",
        "from sklearn.ensemble import RandomForestRegressor\n",
        "from sklearn.metrics import mean_squared_error"
      ],
      "execution_count": 0,
      "outputs": []
    },
    {
      "cell_type": "code",
      "metadata": {
        "id": "PfapUnnZTbiB",
        "colab_type": "code",
        "colab": {}
      },
      "source": [
        "le_U_ID = LabelEncoder()\n",
        "df['User_ID'] = le_U_ID.fit_transform(df['User_ID'])\n",
        "le_P_ID = LabelEncoder()\n",
        "df['Product_ID'] = le_P_ID.fit_transform(df['Product_ID'])\n",
        "df['Gender'] = np.where(df['Gender']=='M',1,0) # Female: 0, Male: 1\n",
        "df_Age = pd.get_dummies(df.Age)\n",
        "df_CC = pd.get_dummies(df.City_Category)\n",
        "df_SIC = pd.get_dummies(df.Stay_In_Current_City_Years)\n",
        "df_encoded = pd.concat([df,df_Age,df_CC,df_SIC],axis=1)\n",
        "df_encoded.drop(['Age','City_Category','Stay_In_Current_City_Years'],axis=1,inplace=True)"
      ],
      "execution_count": 0,
      "outputs": []
    },
    {
      "cell_type": "code",
      "metadata": {
        "id": "iRSuhpRjOQlC",
        "colab_type": "code",
        "colab": {}
      },
      "source": [
        "bins = [0, 10000, 20000, 30000]\n",
        "labels = [\"bronze\",\"silver\",\"gold\"]\n",
        "df['Purchase'] = pd.cut(df['Purchase'], bins=bins, labels=labels)"
      ],
      "execution_count": 0,
      "outputs": []
    },
    {
      "cell_type": "code",
      "metadata": {
        "id": "T5dZMk21OyW3",
        "colab_type": "code",
        "outputId": "82758a97-80dd-41b1-b754-7b5c065b93ff",
        "colab": {
          "base_uri": "https://localhost:8080/",
          "height": 292
        }
      },
      "source": [
        "df.head()"
      ],
      "execution_count": 0,
      "outputs": [
        {
          "output_type": "execute_result",
          "data": {
            "text/html": [
              "<div>\n",
              "<style scoped>\n",
              "    .dataframe tbody tr th:only-of-type {\n",
              "        vertical-align: middle;\n",
              "    }\n",
              "\n",
              "    .dataframe tbody tr th {\n",
              "        vertical-align: top;\n",
              "    }\n",
              "\n",
              "    .dataframe thead th {\n",
              "        text-align: right;\n",
              "    }\n",
              "</style>\n",
              "<table border=\"1\" class=\"dataframe\">\n",
              "  <thead>\n",
              "    <tr style=\"text-align: right;\">\n",
              "      <th></th>\n",
              "      <th>User_ID</th>\n",
              "      <th>Product_ID</th>\n",
              "      <th>Gender</th>\n",
              "      <th>Age</th>\n",
              "      <th>Occupation</th>\n",
              "      <th>City_Category</th>\n",
              "      <th>Stay_In_Current_City_Years</th>\n",
              "      <th>Marital_Status</th>\n",
              "      <th>Product_Category_1</th>\n",
              "      <th>Product_Category_2</th>\n",
              "      <th>Product_Category_3</th>\n",
              "      <th>Purchase</th>\n",
              "    </tr>\n",
              "  </thead>\n",
              "  <tbody>\n",
              "    <tr>\n",
              "      <th>0</th>\n",
              "      <td>0</td>\n",
              "      <td>670</td>\n",
              "      <td>0</td>\n",
              "      <td>0-17</td>\n",
              "      <td>10</td>\n",
              "      <td>A</td>\n",
              "      <td>2</td>\n",
              "      <td>0</td>\n",
              "      <td>3</td>\n",
              "      <td>0.0</td>\n",
              "      <td>0.0</td>\n",
              "      <td>bronze</td>\n",
              "    </tr>\n",
              "    <tr>\n",
              "      <th>1</th>\n",
              "      <td>0</td>\n",
              "      <td>2374</td>\n",
              "      <td>0</td>\n",
              "      <td>0-17</td>\n",
              "      <td>10</td>\n",
              "      <td>A</td>\n",
              "      <td>2</td>\n",
              "      <td>0</td>\n",
              "      <td>1</td>\n",
              "      <td>6.0</td>\n",
              "      <td>14.0</td>\n",
              "      <td>silver</td>\n",
              "    </tr>\n",
              "    <tr>\n",
              "      <th>2</th>\n",
              "      <td>0</td>\n",
              "      <td>850</td>\n",
              "      <td>0</td>\n",
              "      <td>0-17</td>\n",
              "      <td>10</td>\n",
              "      <td>A</td>\n",
              "      <td>2</td>\n",
              "      <td>0</td>\n",
              "      <td>12</td>\n",
              "      <td>0.0</td>\n",
              "      <td>0.0</td>\n",
              "      <td>bronze</td>\n",
              "    </tr>\n",
              "    <tr>\n",
              "      <th>3</th>\n",
              "      <td>0</td>\n",
              "      <td>826</td>\n",
              "      <td>0</td>\n",
              "      <td>0-17</td>\n",
              "      <td>10</td>\n",
              "      <td>A</td>\n",
              "      <td>2</td>\n",
              "      <td>0</td>\n",
              "      <td>12</td>\n",
              "      <td>14.0</td>\n",
              "      <td>0.0</td>\n",
              "      <td>bronze</td>\n",
              "    </tr>\n",
              "    <tr>\n",
              "      <th>4</th>\n",
              "      <td>1</td>\n",
              "      <td>2732</td>\n",
              "      <td>1</td>\n",
              "      <td>55+</td>\n",
              "      <td>16</td>\n",
              "      <td>C</td>\n",
              "      <td>4+</td>\n",
              "      <td>0</td>\n",
              "      <td>8</td>\n",
              "      <td>0.0</td>\n",
              "      <td>0.0</td>\n",
              "      <td>bronze</td>\n",
              "    </tr>\n",
              "  </tbody>\n",
              "</table>\n",
              "</div>"
            ],
            "text/plain": [
              "   User_ID  Product_ID  Gender   Age  Occupation City_Category  \\\n",
              "0        0         670       0  0-17          10             A   \n",
              "1        0        2374       0  0-17          10             A   \n",
              "2        0         850       0  0-17          10             A   \n",
              "3        0         826       0  0-17          10             A   \n",
              "4        1        2732       1   55+          16             C   \n",
              "\n",
              "  Stay_In_Current_City_Years  Marital_Status  Product_Category_1  \\\n",
              "0                          2               0                   3   \n",
              "1                          2               0                   1   \n",
              "2                          2               0                  12   \n",
              "3                          2               0                  12   \n",
              "4                         4+               0                   8   \n",
              "\n",
              "   Product_Category_2  Product_Category_3 Purchase  \n",
              "0                 0.0                 0.0   bronze  \n",
              "1                 6.0                14.0   silver  \n",
              "2                 0.0                 0.0   bronze  \n",
              "3                14.0                 0.0   bronze  \n",
              "4                 0.0                 0.0   bronze  "
            ]
          },
          "metadata": {
            "tags": []
          },
          "execution_count": 29
        }
      ]
    },
    {
      "cell_type": "markdown",
      "metadata": {
        "id": "xZgIJHS4PCGl",
        "colab_type": "text"
      },
      "source": [
        " Heatmap"
      ]
    },
    {
      "cell_type": "code",
      "metadata": {
        "id": "UAYQJfAbENoU",
        "colab_type": "code",
        "outputId": "7951044e-3ab2-464f-c988-f7a1a35f20de",
        "colab": {
          "base_uri": "https://localhost:8080/",
          "height": 594
        }
      },
      "source": [
        "plt.figure(figsize=(10,8)) \n",
        "sns.heatmap(df.corr(), annot=True)"
      ],
      "execution_count": 0,
      "outputs": [
        {
          "output_type": "execute_result",
          "data": {
            "text/plain": [
              "<matplotlib.axes._subplots.AxesSubplot at 0x7efca0c75630>"
            ]
          },
          "metadata": {
            "tags": []
          },
          "execution_count": 30
        },
        {
          "output_type": "display_data",
          "data": {
            "image/png": "[encoded data removed]",
            "text/plain": [
              "<Figure size 720x576 with 2 Axes>"
            ]
          },
          "metadata": {
            "tags": []
          }
        }
      ]
    },
    {
      "cell_type": "markdown",
      "metadata": {
        "id": "Fa3xLWYYPGM0",
        "colab_type": "text"
      },
      "source": [
        "## Model preparation "
      ]
    },
    {
      "cell_type": "code",
      "metadata": {
        "id": "HmDFWaUHKH06",
        "colab_type": "code",
        "outputId": "b4d5101b-15b4-41d2-ba8f-894b85b60866",
        "colab": {
          "base_uri": "https://localhost:8080/",
          "height": 105
        }
      },
      "source": [
        "from sklearn.preprocessing import StandardScaler\n",
        "sc = StandardScaler()\n",
        "X_fit = pd.DataFrame(sc.fit_transform(df_encoded.drop(['User_ID','Product_ID','Purchase'],axis=1)))"
      ],
      "execution_count": 0,
      "outputs": [
        {
          "output_type": "stream",
          "text": [
            "/usr/local/lib/python3.6/dist-packages/sklearn/preprocessing/data.py:645: DataConversionWarning: Data with input dtype uint8, int64, float64 were all converted to float64 by StandardScaler.\n",
            "  return self.partial_fit(X, y)\n",
            "/usr/local/lib/python3.6/dist-packages/sklearn/base.py:464: DataConversionWarning: Data with input dtype uint8, int64, float64 were all converted to float64 by StandardScaler.\n",
            "  return self.fit(X, **fit_params).transform(X)\n"
          ],
          "name": "stderr"
        }
      ]
    },
    {
      "cell_type": "markdown",
      "metadata": {
        "id": "VtMpa0PzlGll",
        "colab_type": "text"
      },
      "source": [
        "## Apply different models(LogisticRegression, RandomForest, SVC)"
      ]
    },
    {
      "cell_type": "code",
      "metadata": {
        "id": "sNh7f383J6mv",
        "colab_type": "code",
        "colab": {}
      },
      "source": [
        "from sklearn.model_selection import train_test_split\n",
        "from sklearn import metrics\n",
        "X = X_fit\n",
        "# df.reset_index()\n",
        "y = df_encoded['Purchase']"
      ],
      "execution_count": 0,
      "outputs": []
    },
    {
      "cell_type": "code",
      "metadata": {
        "id": "Rbe4-0QmVD3z",
        "colab_type": "code",
        "outputId": "0c482a71-705d-4e7a-88ca-2f6f6c8c6501",
        "colab": {
          "base_uri": "https://localhost:8080/",
          "height": 51
        }
      },
      "source": [
        "X_train, X_test, y_train, y_test = train_test_split(X, y, test_size=0.2)\n",
        "print(X_train.shape, y_train.shape)\n",
        "print(X_test.shape, y_test.shape)"
      ],
      "execution_count": 0,
      "outputs": [
        {
          "output_type": "stream",
          "text": [
            "(430061, 21) (430061,)\n",
            "(107516, 21) (107516,)\n"
          ],
          "name": "stdout"
        }
      ]
    },
    {
      "cell_type": "markdown",
      "metadata": {
        "id": "ZQV9hd7IVZuM",
        "colab_type": "text"
      },
      "source": [
        "###Logistic Regression"
      ]
    },
    {
      "cell_type": "code",
      "metadata": {
        "id": "vBc4lxmyM4-J",
        "colab_type": "code",
        "outputId": "e1bda3f2-a6a5-4d14-a80b-ff06d7dfca78",
        "colab": {
          "base_uri": "https://localhost:8080/",
          "height": 122
        }
      },
      "source": [
        "from sklearn import linear_model\n",
        "from sklearn.linear_model import LogisticRegression\n",
        "\n",
        "lm = linear_model.LogisticRegression()\n",
        "model = lm.fit(X_train, y_train)\n",
        "predictions = lm.predict(X_test)\n",
        "\n",
        "model.score(X_test,y_test)"
      ],
      "execution_count": 0,
      "outputs": [
        {
          "output_type": "stream",
          "text": [
            "/usr/local/lib/python3.6/dist-packages/sklearn/linear_model/logistic.py:433: FutureWarning: Default solver will be changed to 'lbfgs' in 0.22. Specify a solver to silence this warning.\n",
            "  FutureWarning)\n",
            "/usr/local/lib/python3.6/dist-packages/sklearn/linear_model/logistic.py:460: FutureWarning: Default multi_class will be changed to 'auto' in 0.22. Specify the multi_class option to silence this warning.\n",
            "  \"this warning.\", FutureWarning)\n"
          ],
          "name": "stderr"
        },
        {
          "output_type": "execute_result",
          "data": {
            "text/plain": [
              "0.7857342163026898"
            ]
          },
          "metadata": {
            "tags": []
          },
          "execution_count": 35
        }
      ]
    },
    {
      "cell_type": "code",
      "metadata": {
        "id": "vW8L6rCVfko-",
        "colab_type": "code",
        "outputId": "b6c3a19e-fd89-44be-c32b-f6eb6948d577",
        "colab": {
          "base_uri": "https://localhost:8080/",
          "height": 462
        }
      },
      "source": [
        "#cross validation\n",
        "from sklearn.model_selection import cross_val_score, cross_val_predict\n",
        "scores = cross_val_score(model, X, y, cv=6)\n",
        "print(\"Cross-validated scores:\", scores)"
      ],
      "execution_count": 0,
      "outputs": [
        {
          "output_type": "stream",
          "text": [
            "/usr/local/lib/python3.6/dist-packages/sklearn/linear_model/logistic.py:433: FutureWarning: Default solver will be changed to 'lbfgs' in 0.22. Specify a solver to silence this warning.\n",
            "  FutureWarning)\n",
            "/usr/local/lib/python3.6/dist-packages/sklearn/linear_model/logistic.py:460: FutureWarning: Default multi_class will be changed to 'auto' in 0.22. Specify the multi_class option to silence this warning.\n",
            "  \"this warning.\", FutureWarning)\n",
            "/usr/local/lib/python3.6/dist-packages/sklearn/linear_model/logistic.py:433: FutureWarning: Default solver will be changed to 'lbfgs' in 0.22. Specify a solver to silence this warning.\n",
            "  FutureWarning)\n",
            "/usr/local/lib/python3.6/dist-packages/sklearn/linear_model/logistic.py:460: FutureWarning: Default multi_class will be changed to 'auto' in 0.22. Specify the multi_class option to silence this warning.\n",
            "  \"this warning.\", FutureWarning)\n",
            "/usr/local/lib/python3.6/dist-packages/sklearn/linear_model/logistic.py:433: FutureWarning: Default solver will be changed to 'lbfgs' in 0.22. Specify a solver to silence this warning.\n",
            "  FutureWarning)\n",
            "/usr/local/lib/python3.6/dist-packages/sklearn/linear_model/logistic.py:460: FutureWarning: Default multi_class will be changed to 'auto' in 0.22. Specify the multi_class option to silence this warning.\n",
            "  \"this warning.\", FutureWarning)\n",
            "/usr/local/lib/python3.6/dist-packages/sklearn/linear_model/logistic.py:433: FutureWarning: Default solver will be changed to 'lbfgs' in 0.22. Specify a solver to silence this warning.\n",
            "  FutureWarning)\n",
            "/usr/local/lib/python3.6/dist-packages/sklearn/linear_model/logistic.py:460: FutureWarning: Default multi_class will be changed to 'auto' in 0.22. Specify the multi_class option to silence this warning.\n",
            "  \"this warning.\", FutureWarning)\n",
            "/usr/local/lib/python3.6/dist-packages/sklearn/linear_model/logistic.py:433: FutureWarning: Default solver will be changed to 'lbfgs' in 0.22. Specify a solver to silence this warning.\n",
            "  FutureWarning)\n",
            "/usr/local/lib/python3.6/dist-packages/sklearn/linear_model/logistic.py:460: FutureWarning: Default multi_class will be changed to 'auto' in 0.22. Specify the multi_class option to silence this warning.\n",
            "  \"this warning.\", FutureWarning)\n",
            "/usr/local/lib/python3.6/dist-packages/sklearn/linear_model/logistic.py:433: FutureWarning: Default solver will be changed to 'lbfgs' in 0.22. Specify a solver to silence this warning.\n",
            "  FutureWarning)\n",
            "/usr/local/lib/python3.6/dist-packages/sklearn/linear_model/logistic.py:460: FutureWarning: Default multi_class will be changed to 'auto' in 0.22. Specify the multi_class option to silence this warning.\n",
            "  \"this warning.\", FutureWarning)\n"
          ],
          "name": "stderr"
        },
        {
          "output_type": "stream",
          "text": [
            "Cross-validated scores: [0.78540576 0.78516022 0.78678974 0.78707992 0.78507729 0.78432708]\n"
          ],
          "name": "stdout"
        }
      ]
    },
    {
      "cell_type": "markdown",
      "metadata": {
        "id": "pEIRmfBYfyeo",
        "colab_type": "text"
      },
      "source": [
        "###Random Forest"
      ]
    },
    {
      "cell_type": "code",
      "metadata": {
        "id": "SrxWZyESfjPl",
        "colab_type": "code",
        "outputId": "c916a04d-66a3-44ee-a7dc-7088b3f12aea",
        "colab": {
          "base_uri": "https://localhost:8080/",
          "height": 88
        }
      },
      "source": [
        "from sklearn.ensemble import RandomForestClassifier\n",
        "rfr = RandomForestClassifier()\n",
        "rfr.fit(X_train,y_train)\n",
        "print('The accuracy of the Random Forest is',rfr.score(X_test,y_test))"
      ],
      "execution_count": 0,
      "outputs": [
        {
          "output_type": "stream",
          "text": [
            "/usr/local/lib/python3.6/dist-packages/sklearn/ensemble/forest.py:246: FutureWarning: The default value of n_estimators will change from 10 in version 0.20 to 100 in 0.22.\n",
            "  \"10 in version 0.20 to 100 in 0.22.\", FutureWarning)\n"
          ],
          "name": "stderr"
        },
        {
          "output_type": "stream",
          "text": [
            "The accuracy of the Random Forest is 0.8567189999627962\n"
          ],
          "name": "stdout"
        }
      ]
    },
    {
      "cell_type": "markdown",
      "metadata": {
        "id": "uJz7fYjNka-O",
        "colab_type": "text"
      },
      "source": [
        "###SVC"
      ]
    },
    {
      "cell_type": "code",
      "metadata": {
        "id": "WJKhKLpbk0fi",
        "colab_type": "code",
        "colab": {}
      },
      "source": [
        "from sklearn import svm\n",
        "svc=svm.SVC(gamma='auto_deprecated')\n",
        "svc.fit(X_train,y_train)\n",
        "prediction_svc=svc.predict(X_test)\n",
        "print('The accuracy of the SVC is', svc.score(X_test,y_test))"
      ],
      "execution_count": 0,
      "outputs": []
    },
    {
      "cell_type": "markdown",
      "metadata": {
        "id": "3ntkcQd9pl_V",
        "colab_type": "text"
      },
      "source": [
        "##Using GridSearchCV to optimize the paramaters"
      ]
    },
    {
      "cell_type": "code",
      "metadata": {
        "id": "IFTItDUThJkW",
        "colab_type": "code",
        "colab": {}
      },
      "source": [
        "from sklearn.model_selection import GridSearchCV\n",
        "parameters = {'n_estimators': [100,200, 300, 400],'max_depth' :[2,3,4,5]}\n",
        "RF = RandomForestRegressor()\n",
        "\n",
        "clf_RF = GridSearchCV(RF, parameters, cv=5)\n",
        "clf_RF.fit(X_train,y_train)"
      ],
      "execution_count": 0,
      "outputs": []
    },
    {
      "cell_type": "code",
      "metadata": {
        "id": "6GbUeB9ohlUt",
        "colab_type": "code",
        "outputId": "6f1c1312-6369-41da-892b-f17a805f3292",
        "colab": {
          "base_uri": "https://localhost:8080/",
          "height": 34
        }
      },
      "source": [
        "clf_RF.best_params_"
      ],
      "execution_count": 0,
      "outputs": [
        {
          "output_type": "execute_result",
          "data": {
            "text/plain": [
              "{'max_depth': 5, 'n_estimators': 400}"
            ]
          },
          "metadata": {
            "tags": []
          },
          "execution_count": 52
        }
      ]
    },
    {
      "cell_type": "code",
      "metadata": {
        "id": "3BiSptw-N2xp",
        "colab_type": "code",
        "outputId": "c556ce94-d352-4904-9e29-33125945c054",
        "colab": {
          "base_uri": "https://localhost:8080/",
          "height": 34
        }
      },
      "source": [
        "from sklearn.ensemble import RandomForestClassifier\n",
        "RF = RandomForestClassifier(n_estimators=400, max_depth=5)\n",
        "RF.fit(X_train,y_train)\n",
        "prediction_RF=RF.predict(X_test)\n",
        "print('The accuracy of the Random Forest Regression is',metrics.accuracy_score(prediction_RF,y_test))"
      ],
      "execution_count": 0,
      "outputs": [
        {
          "output_type": "stream",
          "text": [
            "The accuracy of the Random Forest Regression is 0.7922077922077922\n"
          ],
          "name": "stdout"
        }
      ]
    },
    {
      "cell_type": "code",
      "metadata": {
        "id": "8JKHjKzkaY2a",
        "colab_type": "code",
        "outputId": "12eb783b-b055-4143-def0-7d143b7e7453",
        "colab": {
          "base_uri": "https://localhost:8080/",
          "height": 153
        }
      },
      "source": [
        "from sklearn.model_selection import GridSearchCV\n",
        "parameters = {'C':[0.1, 1, 10,100]}\n",
        "SVC = svm.SVC(kernel='rbf')\n",
        "\n",
        "clf_SVC = GridSearchCV(SVC, parameters, cv=5)\n",
        "clf_SVC.fit(X_train, y_train)"
      ],
      "execution_count": 0,
      "outputs": [
        {
          "output_type": "execute_result",
          "data": {
            "text/plain": [
              "GridSearchCV(cv=5, error_score='raise',\n",
              "       estimator=SVC(C=1.0, cache_size=200, class_weight=None, coef0=0.0,\n",
              "  decision_function_shape='ovr', degree=3, gamma='auto', kernel='rbf',\n",
              "  max_iter=-1, probability=False, random_state=None, shrinking=True,\n",
              "  tol=0.001, verbose=False),\n",
              "       fit_params=None, iid=True, n_jobs=1,\n",
              "       param_grid={'C': [0.1, 1, 10, 100]}, pre_dispatch='2*n_jobs',\n",
              "       refit=True, return_train_score='warn', scoring=None, verbose=0)"
            ]
          },
          "metadata": {
            "tags": []
          },
          "execution_count": 54
        }
      ]
    },
    {
      "cell_type": "code",
      "metadata": {
        "id": "JeWqKJ1ybvUp",
        "colab_type": "code",
        "outputId": "cb91ef64-b5a8-435c-eb03-151ce2daf150",
        "colab": {
          "base_uri": "https://localhost:8080/",
          "height": 34
        }
      },
      "source": [
        "clf_SVC.best_params_"
      ],
      "execution_count": 0,
      "outputs": [
        {
          "output_type": "execute_result",
          "data": {
            "text/plain": [
              "{'C': 1}"
            ]
          },
          "metadata": {
            "tags": []
          },
          "execution_count": 55
        }
      ]
    },
    {
      "cell_type": "code",
      "metadata": {
        "id": "jtW5W3o9OUjM",
        "colab_type": "code",
        "outputId": "c558aafe-fbb5-43bb-a55f-8a11ff2fb057",
        "colab": {
          "base_uri": "https://localhost:8080/",
          "height": 34
        }
      },
      "source": [
        "from sklearn import svm\n",
        "from sklearn.model_selection import cross_val_score\n",
        "SVC=svm.SVC(C = 1, kernel='rbf')\n",
        "SVC.fit(X_train,y_train)\n",
        "prediction_SVC=SVC.predict(X_test)\n",
        "print('The accuracy of the SVC is',metrics.accuracy_score(prediction_SVC,y_test))"
      ],
      "execution_count": 0,
      "outputs": [
        {
          "output_type": "stream",
          "text": [
            "The accuracy of the SVC is 0.8181818181818182\n"
          ],
          "name": "stdout"
        }
      ]
    },
    {
      "cell_type": "markdown",
      "metadata": {
        "id": "zmXNLSBez4SI",
        "colab_type": "text"
      },
      "source": [
        "### Model Performance"
      ]
    },
    {
      "cell_type": "code",
      "metadata": {
        "id": "yfK6fV9jz6h4",
        "colab_type": "code",
        "outputId": "8ae58f30-69ed-4537-a74f-c83a6dc78037",
        "colab": {
          "base_uri": "https://localhost:8080/",
          "height": 401
        }
      },
      "source": [
        "from yellowbrick.classifier import ClassificationReport\n",
        "viz = ClassificationReport(SVC)\n",
        "viz.fit(X_train, y_train)\n",
        "viz.score(X_test, y_test)\n",
        "viz.poof()"
      ],
      "execution_count": 0,
      "outputs": [
        {
          "output_type": "display_data",
          "data": {
            "image/png": "[encoded data removed]",
            "text/plain": [
              "<Figure size 576x396 with 2 Axes>"
            ]
          },
          "metadata": {
            "tags": []
          }
        }
      ]
    },
    {
      "cell_type": "code",
      "metadata": {
        "id": "iWCzrmqp0L_P",
        "colab_type": "code",
        "outputId": "e64aee43-cc7e-4cf1-9713-c05be762a538",
        "colab": {
          "base_uri": "https://localhost:8080/",
          "height": 373
        }
      },
      "source": [
        "from yellowbrick.classifier import ConfusionMatrix\n",
        "cm = ConfusionMatrix(SVC)\n",
        "cm.fit(X_train, y_train)\n",
        "cm.score(X_test, y_test)\n",
        "cm.poof()"
      ],
      "execution_count": 0,
      "outputs": [
        {
          "output_type": "display_data",
          "data": {
            "image/png": "[encoded data removed]",
            "text/plain": [
              "<Figure size 576x396 with 1 Axes>"
            ]
          },
          "metadata": {
            "tags": []
          }
        }
      ]
    },
    {
      "cell_type": "markdown",
      "metadata": {
        "id": "ixscZA6ixAMg",
        "colab_type": "text"
      },
      "source": [
        "* False Positive：\n",
        " \n",
        " - Customer does not belong to this tier, but we predict that they are and will spend more on purchase\n",
        " \n",
        " \n",
        " * False Negatives: \n",
        " \n",
        "  - Customer does belong to this tier, but we predict that they are not and will not spend more on purchase\n",
        "  \n",
        " In our business case, we want to lower false negative, because this type of error leads to more potential loss on revenue"
      ]
    },
    {
      "cell_type": "code",
      "metadata": {
        "id": "mGuQvoij1Qx1",
        "colab_type": "code",
        "outputId": "23906b55-ef0d-4f93-c383-911b03be1752",
        "colab": {
          "base_uri": "https://localhost:8080/",
          "height": 376
        }
      },
      "source": [
        "from yellowbrick.classifier import ROCAUC\n",
        "visualizer = ROCAUC(SVC, micro=False, macro=False, per_class=False)\n",
        "visualizer.fit(X_train, y_train) \n",
        "visualizer.score(X_test, y_test)\n",
        "visualizer.poof()             "
      ],
      "execution_count": 0,
      "outputs": [
        {
          "output_type": "display_data",
          "data": {
            "image/png": "[encoded data removed]",
            "text/plain": [
              "<Figure size 576x396 with 1 Axes>"
            ]
          },
          "metadata": {
            "tags": []
          }
        }
      ]
    },
    {
      "cell_type": "markdown",
      "metadata": {
        "id": "G0VVWGemaekV",
        "colab_type": "text"
      },
      "source": [
        "## AutoML using H2O"
      ]
    },
    {
      "cell_type": "code",
      "metadata": {
        "id": "ltBYKlt2eyNy",
        "colab_type": "code",
        "outputId": "53536a50-47d5-4c15-e02e-d8f8fb87a99d",
        "colab": {
          "base_uri": "https://localhost:8080/",
          "height": 249
        }
      },
      "source": [
        "from google.colab import drive\n",
        "drive.mount(\"/content/drive\")"
      ],
      "execution_count": 0,
      "outputs": [
        {
          "output_type": "stream",
          "text": [
            "Go to this URL in a browser: https://accounts.google.com/o/oauth2/auth?client_id=947318989803-6bn6qk8qdgf4n4g3pfee6491hc0brc4i.apps.googleusercontent.com&redirect_uri=urn%3Aietf%3Awg%3Aoauth%3A2.0%3Aoob&scope=email%20https%3A%2F%2Fwww.googleapis.com%2Fauth%2Fdocs.test%20https%3A%2F%2Fwww.googleapis.com%2Fauth%2Fdrive%20https%3A%2F%2Fwww.googleapis.com%2Fauth%2Fdrive.photos.readonly%20https%3A%2F%2Fwww.googleapis.com%2Fauth%2Fpeopleapi.readonly&response_type=code\n",
            "\n",
            "Enter your authorization code:\n",
            "··········\n",
            "Mounted at /content/drive\n"
          ],
          "name": "stdout"
        }
      ]
    },
    {
      "cell_type": "code",
      "metadata": {
        "id": "jZPi_6PZe_fM",
        "colab_type": "code",
        "outputId": "d79a16de-117a-4ce4-c7db-c9e9c57e48fd",
        "colab": {
          "base_uri": "https://localhost:8080/",
          "height": 820
        }
      },
      "source": [
        "! pip install h2o"
      ],
      "execution_count": 0,
      "outputs": [
        {
          "output_type": "stream",
          "text": [
            "Collecting h2o\n",
            "\u001b[?25l  Downloading https://files.pythonhosted.org/packages/37/41/78f43cbe3caf4e7ae5fa622c0dc2a5dba820319cd36aa7f96ed40fcb8271/h2o-3.24.0.2.tar.gz (121.0MB)\n",
            "\u001b[K     |████████████████████████████████| 121.0MB 164kB/s \n",
            "\u001b[?25hRequirement already satisfied: requests in /usr/local/lib/python3.6/dist-packages (from h2o) (2.21.0)\n",
            "Requirement already satisfied: tabulate in /usr/local/lib/python3.6/dist-packages (from h2o) (0.8.3)\n",
            "Requirement already satisfied: future in /usr/local/lib/python3.6/dist-packages (from h2o) (0.16.0)\n",
            "Collecting colorama>=0.3.8 (from h2o)\n",
            "  Downloading https://files.pythonhosted.org/packages/4f/a6/728666f39bfff1719fc94c481890b2106837da9318031f71a8424b662e12/colorama-0.4.1-py2.py3-none-any.whl\n",
            "Requirement already satisfied: idna<2.9,>=2.5 in /usr/local/lib/python3.6/dist-packages (from requests->h2o) (2.8)\n",
            "Requirement already satisfied: chardet<3.1.0,>=3.0.2 in /usr/local/lib/python3.6/dist-packages (from requests->h2o) (3.0.4)\n",
            "Requirement already satisfied: certifi>=2017.4.17 in /usr/local/lib/python3.6/dist-packages (from requests->h2o) (2019.3.9)\n",
            "Requirement already satisfied: urllib3<1.25,>=1.21.1 in /usr/local/lib/python3.6/dist-packages (from requests->h2o) (1.24.2)\n",
            "Building wheels for collected packages: h2o\n",
            "  Building wheel for h2o (setup.py) ... \u001b[?25l\u001b[?25hdone\n",
            "  Stored in directory: /root/.cache/pip/wheels/e9/92/d1/61cddd17defd8ba2a10400d2b3adf917377769610d904c279d\n",
            "Successfully built h2o\n",
            "Installing collected packages: colorama, h2o\n",
            "Successfully installed colorama-0.4.1 h2o-3.24.0.2\n"
          ],
          "name": "stdout"
        }
      ]
    },
    {
      "cell_type": "code",
      "metadata": {
        "id": "_ZQpRZI3fD4G",
        "colab_type": "code",
        "outputId": "4c0b43e7-82f9-48ee-b1ae-1c95e75404f3",
        "colab": {
          "base_uri": "https://localhost:8080/",
          "height": 718
        }
      },
      "source": [
        "import h2o\n",
        "from h2o.automl import H2OAutoML\n",
        "h2o.init()"
      ],
      "execution_count": 0,
      "outputs": [
        {
          "output_type": "stream",
          "text": [
            "Checking whether there is an H2O instance running at http://localhost:54321 ..... not found.\n",
            "Attempting to start a local H2O server...\n",
            "  Java Version: openjdk version \"11.0.2\" 2019-01-15; OpenJDK Runtime Environment (build 11.0.2+9-Ubuntu-3ubuntu118.04.3); OpenJDK 64-Bit Server VM (build 11.0.2+9-Ubuntu-3ubuntu118.04.3, mixed mode, sharing)\n",
            "  Starting server from /usr/local/lib/python3.6/dist-packages/h2o/backend/bin/h2o.jar\n",
            "  Ice root: /tmp/tmp0u7ilk3v\n",
            "  JVM stdout: /tmp/tmp0u7ilk3v/h2o_unknownUser_started_from_python.out\n",
            "  JVM stderr: /tmp/tmp0u7ilk3v/h2o_unknownUser_started_from_python.err\n",
            "  Server is running at http://127.0.0.1:54321\n",
            "Connecting to H2O server at http://127.0.0.1:54321 ... successful.\n"
          ],
          "name": "stdout"
        },
        {
          "output_type": "display_data",
          "data": {
            "text/html": [
              "<div style=\"overflow:auto\"><table style=\"width:50%\"><tr><td>H2O cluster uptime:</td>\n",
              "<td>03 secs</td></tr>\n",
              "<tr><td>H2O cluster timezone:</td>\n",
              "<td>Etc/UTC</td></tr>\n",
              "<tr><td>H2O data parsing timezone:</td>\n",
              "<td>UTC</td></tr>\n",
              "<tr><td>H2O cluster version:</td>\n",
              "<td>3.24.0.2</td></tr>\n",
              "<tr><td>H2O cluster version age:</td>\n",
              "<td>16 days </td></tr>\n",
              "<tr><td>H2O cluster name:</td>\n",
              "<td>H2O_from_python_unknownUser_x5imzb</td></tr>\n",
              "<tr><td>H2O cluster total nodes:</td>\n",
              "<td>1</td></tr>\n",
              "<tr><td>H2O cluster free memory:</td>\n",
              "<td>3 Gb</td></tr>\n",
              "<tr><td>H2O cluster total cores:</td>\n",
              "<td>2</td></tr>\n",
              "<tr><td>H2O cluster allowed cores:</td>\n",
              "<td>2</td></tr>\n",
              "<tr><td>H2O cluster status:</td>\n",
              "<td>accepting new members, healthy</td></tr>\n",
              "<tr><td>H2O connection url:</td>\n",
              "<td>http://127.0.0.1:54321</td></tr>\n",
              "<tr><td>H2O connection proxy:</td>\n",
              "<td>None</td></tr>\n",
              "<tr><td>H2O internal security:</td>\n",
              "<td>False</td></tr>\n",
              "<tr><td>H2O API Extensions:</td>\n",
              "<td>Amazon S3, XGBoost, Algos, AutoML, Core V3, Core V4</td></tr>\n",
              "<tr><td>Python version:</td>\n",
              "<td>3.6.7 final</td></tr></table></div>"
            ],
            "text/plain": [
              "--------------------------  ---------------------------------------------------\n",
              "H2O cluster uptime:         03 secs\n",
              "H2O cluster timezone:       Etc/UTC\n",
              "H2O data parsing timezone:  UTC\n",
              "H2O cluster version:        3.24.0.2\n",
              "H2O cluster version age:    16 days\n",
              "H2O cluster name:           H2O_from_python_unknownUser_x5imzb\n",
              "H2O cluster total nodes:    1\n",
              "H2O cluster free memory:    3 Gb\n",
              "H2O cluster total cores:    2\n",
              "H2O cluster allowed cores:  2\n",
              "H2O cluster status:         accepting new members, healthy\n",
              "H2O connection url:         http://127.0.0.1:54321\n",
              "H2O connection proxy:\n",
              "H2O internal security:      False\n",
              "H2O API Extensions:         Amazon S3, XGBoost, Algos, AutoML, Core V3, Core V4\n",
              "Python version:             3.6.7 final\n",
              "--------------------------  ---------------------------------------------------"
            ]
          },
          "metadata": {
            "tags": []
          }
        }
      ]
    },
    {
      "cell_type": "code",
      "metadata": {
        "id": "cngf6bCKeyK4",
        "colab_type": "code",
        "outputId": "d18567a3-dc37-4bab-9cc7-d61c9910ef28",
        "colab": {
          "base_uri": "https://localhost:8080/",
          "height": 34
        }
      },
      "source": [
        "df_automl = df"
      ],
      "execution_count": 0,
      "outputs": [
        {
          "output_type": "stream",
          "text": [
            "Parse progress: |█████████████████████████████████████████████████████████| 100%\n"
          ],
          "name": "stdout"
        }
      ]
    },
    {
      "cell_type": "code",
      "metadata": {
        "id": "kUPNSuUmeyHz",
        "colab_type": "code",
        "outputId": "68e3feba-dcb5-4c65-eceb-3fb7da013094",
        "colab": {
          "base_uri": "https://localhost:8080/",
          "height": 34
        }
      },
      "source": [
        "train, test = df_automl.split_frame(ratios=[0.8], seed=7)\n",
        "response = \"Outcome\"\n",
        "train[response] = train[response].asfactor()\n",
        "test[response] = test[response].asfactor()\n",
        "print(\"Number of rows in train and test set : \", train.shape[0], test.shape[0])"
      ],
      "execution_count": 0,
      "outputs": [
        {
          "output_type": "stream",
          "text": [
            "Number of rows in train and test set :  610 158\n"
          ],
          "name": "stdout"
        }
      ]
    },
    {
      "cell_type": "code",
      "metadata": {
        "id": "RaF3mQWKeyBy",
        "colab_type": "code",
        "colab": {}
      },
      "source": [
        "x = df_automl.columns[:-1]\n",
        "y = \"Outcome\""
      ],
      "execution_count": 0,
      "outputs": []
    },
    {
      "cell_type": "code",
      "metadata": {
        "id": "mMjSaDsxgbOc",
        "colab_type": "code",
        "outputId": "de34aa6b-8665-4f69-ae24-51cd49fd541d",
        "colab": {
          "base_uri": "https://localhost:8080/",
          "height": 519
        }
      },
      "source": [
        "aml = H2OAutoML(max_models=20, seed=1)\n",
        "aml.train(x=x, y=y, training_frame = train)\n",
        "\n",
        "# View the AutoML Leaderboard\n",
        "lb = aml.leaderboard\n",
        "lb.head(rows=lb.nrows)  # Print all rows instead of default (10 rows)"
      ],
      "execution_count": 0,
      "outputs": [
        {
          "output_type": "stream",
          "text": [
            "AutoML progress: |████████████████████████████████████████████████████████| 100%\n"
          ],
          "name": "stdout"
        },
        {
          "output_type": "display_data",
          "data": {
            "text/html": [
              "<table>\n",
              "<thead>\n",
              "<tr><th>model_id                                           </th><th style=\"text-align: right;\">     auc</th><th style=\"text-align: right;\">  logloss</th><th style=\"text-align: right;\">  mean_per_class_error</th><th style=\"text-align: right;\">    rmse</th><th style=\"text-align: right;\">     mse</th></tr>\n",
              "</thead>\n",
              "<tbody>\n",
              "<tr><td>StackedEnsemble_BestOfFamily_AutoML_20190503_171812</td><td style=\"text-align: right;\">0.828774</td><td style=\"text-align: right;\"> 0.492089</td><td style=\"text-align: right;\">              0.230774</td><td style=\"text-align: right;\">0.404251</td><td style=\"text-align: right;\">0.163419</td></tr>\n",
              "<tr><td>XGBoost_grid_1_AutoML_20190503_171812_model_4      </td><td style=\"text-align: right;\">0.827101</td><td style=\"text-align: right;\"> 0.482268</td><td style=\"text-align: right;\">              0.226131</td><td style=\"text-align: right;\">0.401333</td><td style=\"text-align: right;\">0.161068</td></tr>\n",
              "<tr><td>StackedEnsemble_AllModels_AutoML_20190503_171812   </td><td style=\"text-align: right;\">0.825821</td><td style=\"text-align: right;\"> 0.49496 </td><td style=\"text-align: right;\">              0.23119 </td><td style=\"text-align: right;\">0.405857</td><td style=\"text-align: right;\">0.16472 </td></tr>\n",
              "<tr><td>GLM_grid_1_AutoML_20190503_171812_model_1          </td><td style=\"text-align: right;\">0.82578 </td><td style=\"text-align: right;\"> 0.486877</td><td style=\"text-align: right;\">              0.248452</td><td style=\"text-align: right;\">0.401632</td><td style=\"text-align: right;\">0.161308</td></tr>\n",
              "<tr><td>XGBoost_3_AutoML_20190503_171812                   </td><td style=\"text-align: right;\">0.820786</td><td style=\"text-align: right;\"> 0.49318 </td><td style=\"text-align: right;\">              0.239107</td><td style=\"text-align: right;\">0.405066</td><td style=\"text-align: right;\">0.164079</td></tr>\n",
              "<tr><td>XGBoost_1_AutoML_20190503_171812                   </td><td style=\"text-align: right;\">0.820494</td><td style=\"text-align: right;\"> 0.489687</td><td style=\"text-align: right;\">              0.237083</td><td style=\"text-align: right;\">0.405079</td><td style=\"text-align: right;\">0.164089</td></tr>\n",
              "<tr><td>XGBoost_2_AutoML_20190503_171812                   </td><td style=\"text-align: right;\">0.81769 </td><td style=\"text-align: right;\"> 0.503274</td><td style=\"text-align: right;\">              0.237262</td><td style=\"text-align: right;\">0.409271</td><td style=\"text-align: right;\">0.167503</td></tr>\n",
              "<tr><td>DeepLearning_grid_1_AutoML_20190503_171812_model_2 </td><td style=\"text-align: right;\">0.817006</td><td style=\"text-align: right;\"> 0.518186</td><td style=\"text-align: right;\">              0.249405</td><td style=\"text-align: right;\">0.412744</td><td style=\"text-align: right;\">0.170357</td></tr>\n",
              "<tr><td>XGBoost_grid_1_AutoML_20190503_171812_model_3      </td><td style=\"text-align: right;\">0.815911</td><td style=\"text-align: right;\"> 0.500522</td><td style=\"text-align: right;\">              0.247202</td><td style=\"text-align: right;\">0.408575</td><td style=\"text-align: right;\">0.166934</td></tr>\n",
              "<tr><td>GBM_5_AutoML_20190503_171812                       </td><td style=\"text-align: right;\">0.809911</td><td style=\"text-align: right;\"> 0.504261</td><td style=\"text-align: right;\">              0.254881</td><td style=\"text-align: right;\">0.410761</td><td style=\"text-align: right;\">0.168725</td></tr>\n",
              "<tr><td>DeepLearning_grid_1_AutoML_20190503_171812_model_1 </td><td style=\"text-align: right;\">0.807798</td><td style=\"text-align: right;\"> 0.545044</td><td style=\"text-align: right;\">              0.265714</td><td style=\"text-align: right;\">0.421398</td><td style=\"text-align: right;\">0.177576</td></tr>\n",
              "<tr><td>XGBoost_grid_1_AutoML_20190503_171812_model_2      </td><td style=\"text-align: right;\">0.804929</td><td style=\"text-align: right;\"> 0.529536</td><td style=\"text-align: right;\">              0.256369</td><td style=\"text-align: right;\">0.423426</td><td style=\"text-align: right;\">0.179289</td></tr>\n",
              "<tr><td>GBM_2_AutoML_20190503_171812                       </td><td style=\"text-align: right;\">0.801089</td><td style=\"text-align: right;\"> 0.521204</td><td style=\"text-align: right;\">              0.264702</td><td style=\"text-align: right;\">0.41984 </td><td style=\"text-align: right;\">0.176265</td></tr>\n",
              "<tr><td>DeepLearning_1_AutoML_20190503_171812              </td><td style=\"text-align: right;\">0.799762</td><td style=\"text-align: right;\"> 0.52815 </td><td style=\"text-align: right;\">              0.273571</td><td style=\"text-align: right;\">0.417406</td><td style=\"text-align: right;\">0.174227</td></tr>\n",
              "<tr><td>GBM_1_AutoML_20190503_171812                       </td><td style=\"text-align: right;\">0.79772 </td><td style=\"text-align: right;\"> 0.532024</td><td style=\"text-align: right;\">              0.251964</td><td style=\"text-align: right;\">0.423721</td><td style=\"text-align: right;\">0.17954 </td></tr>\n",
              "<tr><td>GBM_3_AutoML_20190503_171812                       </td><td style=\"text-align: right;\">0.796363</td><td style=\"text-align: right;\"> 0.527412</td><td style=\"text-align: right;\">              0.25506 </td><td style=\"text-align: right;\">0.423102</td><td style=\"text-align: right;\">0.179015</td></tr>\n",
              "<tr><td>GBM_grid_1_AutoML_20190503_171812_model_1          </td><td style=\"text-align: right;\">0.795637</td><td style=\"text-align: right;\"> 0.52163 </td><td style=\"text-align: right;\">              0.259405</td><td style=\"text-align: right;\">0.420494</td><td style=\"text-align: right;\">0.176815</td></tr>\n",
              "<tr><td>XRT_1_AutoML_20190503_171812                       </td><td style=\"text-align: right;\">0.793077</td><td style=\"text-align: right;\"> 0.677238</td><td style=\"text-align: right;\">              0.25369 </td><td style=\"text-align: right;\">0.420496</td><td style=\"text-align: right;\">0.176817</td></tr>\n",
              "<tr><td>GBM_4_AutoML_20190503_171812                       </td><td style=\"text-align: right;\">0.792524</td><td style=\"text-align: right;\"> 0.533683</td><td style=\"text-align: right;\">              0.268869</td><td style=\"text-align: right;\">0.424343</td><td style=\"text-align: right;\">0.180067</td></tr>\n",
              "<tr><td>DRF_1_AutoML_20190503_171812                       </td><td style=\"text-align: right;\">0.774494</td><td style=\"text-align: right;\"> 0.853714</td><td style=\"text-align: right;\">              0.279524</td><td style=\"text-align: right;\">0.428751</td><td style=\"text-align: right;\">0.183827</td></tr>\n",
              "<tr><td>GBM_grid_1_AutoML_20190503_171812_model_2          </td><td style=\"text-align: right;\">0.750202</td><td style=\"text-align: right;\"> 1.07994 </td><td style=\"text-align: right;\">              0.30756 </td><td style=\"text-align: right;\">0.503866</td><td style=\"text-align: right;\">0.253881</td></tr>\n",
              "<tr><td>XGBoost_grid_1_AutoML_20190503_171812_model_1      </td><td style=\"text-align: right;\">0.692649</td><td style=\"text-align: right;\"> 0.58458 </td><td style=\"text-align: right;\">              0.348333</td><td style=\"text-align: right;\">0.451155</td><td style=\"text-align: right;\">0.203541</td></tr>\n",
              "</tbody>\n",
              "</table>"
            ]
          },
          "metadata": {
            "tags": []
          }
        },
        {
          "output_type": "execute_result",
          "data": {
            "text/plain": [
              ""
            ]
          },
          "metadata": {
            "tags": []
          },
          "execution_count": 8
        }
      ]
    },
    {
      "cell_type": "code",
      "metadata": {
        "id": "y0v21N1khw4F",
        "colab_type": "code",
        "outputId": "feebe740-a728-4e8a-b924-4e40b0d12a94",
        "colab": {
          "base_uri": "https://localhost:8080/",
          "height": 2189
        }
      },
      "source": [
        "# The leader model is stored here\n",
        "aml.leader"
      ],
      "execution_count": 0,
      "outputs": [
        {
          "output_type": "stream",
          "text": [
            "Model Details\n",
            "=============\n",
            "H2OStackedEnsembleEstimator :  Stacked Ensemble\n",
            "Model Key:  StackedEnsemble_BestOfFamily_AutoML_20190503_171812\n",
            "No model summary for this model\n",
            "\n",
            "\n",
            "ModelMetricsBinomialGLM: stackedensemble\n",
            "** Reported on train data. **\n",
            "\n",
            "MSE: 0.10729862067936295\n",
            "RMSE: 0.32756468167273917\n",
            "LogLoss: 0.3561281329068389\n",
            "Null degrees of freedom: 609\n",
            "Residual degrees of freedom: 606\n",
            "Null deviance: 785.4631271564521\n",
            "Residual deviance: 434.47632214634353\n",
            "AIC: 442.47632214634353\n",
            "AUC: 0.9330178571428571\n",
            "pr_auc: 0.8674859629647829\n",
            "Gini: 0.8660357142857142\n",
            "Confusion Matrix (Act/Pred) for max f1 @ threshold = 0.45807797312619186: \n"
          ],
          "name": "stdout"
        },
        {
          "output_type": "display_data",
          "data": {
            "text/html": [
              "<div style=\"overflow:auto\"><table style=\"width:50%\"><tr><td><b></b></td>\n",
              "<td><b>0</b></td>\n",
              "<td><b>1</b></td>\n",
              "<td><b>Error</b></td>\n",
              "<td><b>Rate</b></td></tr>\n",
              "<tr><td>0</td>\n",
              "<td>361.0</td>\n",
              "<td>39.0</td>\n",
              "<td>0.0975</td>\n",
              "<td> (39.0/400.0)</td></tr>\n",
              "<tr><td>1</td>\n",
              "<td>44.0</td>\n",
              "<td>166.0</td>\n",
              "<td>0.2095</td>\n",
              "<td> (44.0/210.0)</td></tr>\n",
              "<tr><td>Total</td>\n",
              "<td>405.0</td>\n",
              "<td>205.0</td>\n",
              "<td>0.1361</td>\n",
              "<td> (83.0/610.0)</td></tr></table></div>"
            ],
            "text/plain": [
              "       0    1    Error    Rate\n",
              "-----  ---  ---  -------  ------------\n",
              "0      361  39   0.0975   (39.0/400.0)\n",
              "1      44   166  0.2095   (44.0/210.0)\n",
              "Total  405  205  0.1361   (83.0/610.0)"
            ]
          },
          "metadata": {
            "tags": []
          }
        },
        {
          "output_type": "stream",
          "text": [
            "Maximum Metrics: Maximum metrics at their respective thresholds\n",
            "\n"
          ],
          "name": "stdout"
        },
        {
          "output_type": "display_data",
          "data": {
            "text/html": [
              "<div style=\"overflow:auto\"><table style=\"width:50%\"><tr><td><b>metric</b></td>\n",
              "<td><b>threshold</b></td>\n",
              "<td><b>value</b></td>\n",
              "<td><b>idx</b></td></tr>\n",
              "<tr><td>max f1</td>\n",
              "<td>0.4580780</td>\n",
              "<td>0.8000000</td>\n",
              "<td>159.0</td></tr>\n",
              "<tr><td>max f2</td>\n",
              "<td>0.2039962</td>\n",
              "<td>0.8755365</td>\n",
              "<td>252.0</td></tr>\n",
              "<tr><td>max f0point5</td>\n",
              "<td>0.5623687</td>\n",
              "<td>0.8250620</td>\n",
              "<td>114.0</td></tr>\n",
              "<tr><td>max accuracy</td>\n",
              "<td>0.4829602</td>\n",
              "<td>0.8639344</td>\n",
              "<td>147.0</td></tr>\n",
              "<tr><td>max precision</td>\n",
              "<td>0.9091125</td>\n",
              "<td>1.0</td>\n",
              "<td>0.0</td></tr>\n",
              "<tr><td>max recall</td>\n",
              "<td>0.1058205</td>\n",
              "<td>1.0</td>\n",
              "<td>345.0</td></tr>\n",
              "<tr><td>max specificity</td>\n",
              "<td>0.9091125</td>\n",
              "<td>1.0</td>\n",
              "<td>0.0</td></tr>\n",
              "<tr><td>max absolute_mcc</td>\n",
              "<td>0.4580780</td>\n",
              "<td>0.6970333</td>\n",
              "<td>159.0</td></tr>\n",
              "<tr><td>max min_per_class_accuracy</td>\n",
              "<td>0.3594481</td>\n",
              "<td>0.8476190</td>\n",
              "<td>181.0</td></tr>\n",
              "<tr><td>max mean_per_class_accuracy</td>\n",
              "<td>0.3212376</td>\n",
              "<td>0.8542262</td>\n",
              "<td>196.0</td></tr></table></div>"
            ],
            "text/plain": [
              "metric                       threshold    value     idx\n",
              "---------------------------  -----------  --------  -----\n",
              "max f1                       0.458078     0.8       159\n",
              "max f2                       0.203996     0.875536  252\n",
              "max f0point5                 0.562369     0.825062  114\n",
              "max accuracy                 0.48296      0.863934  147\n",
              "max precision                0.909113     1         0\n",
              "max recall                   0.10582      1         345\n",
              "max specificity              0.909113     1         0\n",
              "max absolute_mcc             0.458078     0.697033  159\n",
              "max min_per_class_accuracy   0.359448     0.847619  181\n",
              "max mean_per_class_accuracy  0.321238     0.854226  196"
            ]
          },
          "metadata": {
            "tags": []
          }
        },
        {
          "output_type": "stream",
          "text": [
            "Gains/Lift Table: Avg response rate: 34.43 %, avg score: 34.99 %\n",
            "\n"
          ],
          "name": "stdout"
        },
        {
          "output_type": "display_data",
          "data": {
            "text/html": [
              "<div style=\"overflow:auto\"><table style=\"width:50%\"><tr><td><b></b></td>\n",
              "<td><b>group</b></td>\n",
              "<td><b>cumulative_data_fraction</b></td>\n",
              "<td><b>lower_threshold</b></td>\n",
              "<td><b>lift</b></td>\n",
              "<td><b>cumulative_lift</b></td>\n",
              "<td><b>response_rate</b></td>\n",
              "<td><b>score</b></td>\n",
              "<td><b>cumulative_response_rate</b></td>\n",
              "<td><b>cumulative_score</b></td>\n",
              "<td><b>capture_rate</b></td>\n",
              "<td><b>cumulative_capture_rate</b></td>\n",
              "<td><b>gain</b></td>\n",
              "<td><b>cumulative_gain</b></td></tr>\n",
              "<tr><td></td>\n",
              "<td>1</td>\n",
              "<td>0.0114754</td>\n",
              "<td>0.8953797</td>\n",
              "<td>2.9047619</td>\n",
              "<td>2.9047619</td>\n",
              "<td>1.0</td>\n",
              "<td>0.9023303</td>\n",
              "<td>1.0</td>\n",
              "<td>0.9023303</td>\n",
              "<td>0.0333333</td>\n",
              "<td>0.0333333</td>\n",
              "<td>190.4761905</td>\n",
              "<td>190.4761905</td></tr>\n",
              "<tr><td></td>\n",
              "<td>2</td>\n",
              "<td>0.0213115</td>\n",
              "<td>0.8837748</td>\n",
              "<td>2.9047619</td>\n",
              "<td>2.9047619</td>\n",
              "<td>1.0</td>\n",
              "<td>0.8882731</td>\n",
              "<td>1.0</td>\n",
              "<td>0.8958423</td>\n",
              "<td>0.0285714</td>\n",
              "<td>0.0619048</td>\n",
              "<td>190.4761905</td>\n",
              "<td>190.4761905</td></tr>\n",
              "<tr><td></td>\n",
              "<td>3</td>\n",
              "<td>0.0311475</td>\n",
              "<td>0.8771911</td>\n",
              "<td>2.9047619</td>\n",
              "<td>2.9047619</td>\n",
              "<td>1.0</td>\n",
              "<td>0.8804935</td>\n",
              "<td>1.0</td>\n",
              "<td>0.8909953</td>\n",
              "<td>0.0285714</td>\n",
              "<td>0.0904762</td>\n",
              "<td>190.4761905</td>\n",
              "<td>190.4761905</td></tr>\n",
              "<tr><td></td>\n",
              "<td>4</td>\n",
              "<td>0.0409836</td>\n",
              "<td>0.8687250</td>\n",
              "<td>2.9047619</td>\n",
              "<td>2.9047619</td>\n",
              "<td>1.0</td>\n",
              "<td>0.8724929</td>\n",
              "<td>1.0</td>\n",
              "<td>0.8865548</td>\n",
              "<td>0.0285714</td>\n",
              "<td>0.1190476</td>\n",
              "<td>190.4761905</td>\n",
              "<td>190.4761905</td></tr>\n",
              "<tr><td></td>\n",
              "<td>5</td>\n",
              "<td>0.0508197</td>\n",
              "<td>0.8622891</td>\n",
              "<td>2.4206349</td>\n",
              "<td>2.8110599</td>\n",
              "<td>0.8333333</td>\n",
              "<td>0.8651246</td>\n",
              "<td>0.9677419</td>\n",
              "<td>0.8824070</td>\n",
              "<td>0.0238095</td>\n",
              "<td>0.1428571</td>\n",
              "<td>142.0634921</td>\n",
              "<td>181.1059908</td></tr>\n",
              "<tr><td></td>\n",
              "<td>6</td>\n",
              "<td>0.1</td>\n",
              "<td>0.8235489</td>\n",
              "<td>2.8079365</td>\n",
              "<td>2.8095238</td>\n",
              "<td>0.9666667</td>\n",
              "<td>0.8442701</td>\n",
              "<td>0.9672131</td>\n",
              "<td>0.8636511</td>\n",
              "<td>0.1380952</td>\n",
              "<td>0.2809524</td>\n",
              "<td>180.7936508</td>\n",
              "<td>180.9523810</td></tr>\n",
              "<tr><td></td>\n",
              "<td>7</td>\n",
              "<td>0.1508197</td>\n",
              "<td>0.7562962</td>\n",
              "<td>2.6236559</td>\n",
              "<td>2.7468944</td>\n",
              "<td>0.9032258</td>\n",
              "<td>0.7950791</td>\n",
              "<td>0.9456522</td>\n",
              "<td>0.8405453</td>\n",
              "<td>0.1333333</td>\n",
              "<td>0.4142857</td>\n",
              "<td>162.3655914</td>\n",
              "<td>174.6894410</td></tr>\n",
              "<tr><td></td>\n",
              "<td>8</td>\n",
              "<td>0.2</td>\n",
              "<td>0.6493943</td>\n",
              "<td>2.1301587</td>\n",
              "<td>2.5952381</td>\n",
              "<td>0.7333333</td>\n",
              "<td>0.7068522</td>\n",
              "<td>0.8934426</td>\n",
              "<td>0.8076700</td>\n",
              "<td>0.1047619</td>\n",
              "<td>0.5190476</td>\n",
              "<td>113.0158730</td>\n",
              "<td>159.5238095</td></tr>\n",
              "<tr><td></td>\n",
              "<td>9</td>\n",
              "<td>0.3</td>\n",
              "<td>0.4883600</td>\n",
              "<td>2.0952381</td>\n",
              "<td>2.4285714</td>\n",
              "<td>0.7213115</td>\n",
              "<td>0.5594857</td>\n",
              "<td>0.8360656</td>\n",
              "<td>0.7249419</td>\n",
              "<td>0.2095238</td>\n",
              "<td>0.7285714</td>\n",
              "<td>109.5238095</td>\n",
              "<td>142.8571429</td></tr>\n",
              "<tr><td></td>\n",
              "<td>10</td>\n",
              "<td>0.4</td>\n",
              "<td>0.3364063</td>\n",
              "<td>1.2857143</td>\n",
              "<td>2.1428571</td>\n",
              "<td>0.4426230</td>\n",
              "<td>0.4246035</td>\n",
              "<td>0.7377049</td>\n",
              "<td>0.6498573</td>\n",
              "<td>0.1285714</td>\n",
              "<td>0.8571429</td>\n",
              "<td>28.5714286</td>\n",
              "<td>114.2857143</td></tr>\n",
              "<tr><td></td>\n",
              "<td>11</td>\n",
              "<td>0.5</td>\n",
              "<td>0.2234126</td>\n",
              "<td>0.8095238</td>\n",
              "<td>1.8761905</td>\n",
              "<td>0.2786885</td>\n",
              "<td>0.2832662</td>\n",
              "<td>0.6459016</td>\n",
              "<td>0.5765391</td>\n",
              "<td>0.0809524</td>\n",
              "<td>0.9380952</td>\n",
              "<td>-19.0476190</td>\n",
              "<td>87.6190476</td></tr>\n",
              "<tr><td></td>\n",
              "<td>12</td>\n",
              "<td>0.6</td>\n",
              "<td>0.1641011</td>\n",
              "<td>0.5238095</td>\n",
              "<td>1.6507937</td>\n",
              "<td>0.1803279</td>\n",
              "<td>0.1929705</td>\n",
              "<td>0.5683060</td>\n",
              "<td>0.5126110</td>\n",
              "<td>0.0523810</td>\n",
              "<td>0.9904762</td>\n",
              "<td>-47.6190476</td>\n",
              "<td>65.0793651</td></tr>\n",
              "<tr><td></td>\n",
              "<td>13</td>\n",
              "<td>0.7</td>\n",
              "<td>0.1245620</td>\n",
              "<td>0.0476190</td>\n",
              "<td>1.4217687</td>\n",
              "<td>0.0163934</td>\n",
              "<td>0.1430414</td>\n",
              "<td>0.4894614</td>\n",
              "<td>0.4598153</td>\n",
              "<td>0.0047619</td>\n",
              "<td>0.9952381</td>\n",
              "<td>-95.2380952</td>\n",
              "<td>42.1768707</td></tr>\n",
              "<tr><td></td>\n",
              "<td>14</td>\n",
              "<td>0.8</td>\n",
              "<td>0.0986564</td>\n",
              "<td>0.0476190</td>\n",
              "<td>1.25</td>\n",
              "<td>0.0163934</td>\n",
              "<td>0.1103731</td>\n",
              "<td>0.4303279</td>\n",
              "<td>0.4161350</td>\n",
              "<td>0.0047619</td>\n",
              "<td>1.0</td>\n",
              "<td>-95.2380952</td>\n",
              "<td>25.0</td></tr>\n",
              "<tr><td></td>\n",
              "<td>15</td>\n",
              "<td>0.9</td>\n",
              "<td>0.0848321</td>\n",
              "<td>0.0</td>\n",
              "<td>1.1111111</td>\n",
              "<td>0.0</td>\n",
              "<td>0.0914793</td>\n",
              "<td>0.3825137</td>\n",
              "<td>0.3800622</td>\n",
              "<td>0.0</td>\n",
              "<td>1.0</td>\n",
              "<td>-100.0</td>\n",
              "<td>11.1111111</td></tr>\n",
              "<tr><td></td>\n",
              "<td>16</td>\n",
              "<td>1.0</td>\n",
              "<td>0.0727939</td>\n",
              "<td>0.0</td>\n",
              "<td>1.0</td>\n",
              "<td>0.0</td>\n",
              "<td>0.0788404</td>\n",
              "<td>0.3442623</td>\n",
              "<td>0.3499400</td>\n",
              "<td>0.0</td>\n",
              "<td>1.0</td>\n",
              "<td>-100.0</td>\n",
              "<td>0.0</td></tr></table></div>"
            ],
            "text/plain": [
              "    group    cumulative_data_fraction    lower_threshold    lift      cumulative_lift    response_rate    score      cumulative_response_rate    cumulative_score    capture_rate    cumulative_capture_rate    gain      cumulative_gain\n",
              "--  -------  --------------------------  -----------------  --------  -----------------  ---------------  ---------  --------------------------  ------------------  --------------  -------------------------  --------  -----------------\n",
              "    1        0.0114754                   0.89538            2.90476   2.90476            1                0.90233    1                           0.90233             0.0333333       0.0333333                  190.476   190.476\n",
              "    2        0.0213115                   0.883775           2.90476   2.90476            1                0.888273   1                           0.895842            0.0285714       0.0619048                  190.476   190.476\n",
              "    3        0.0311475                   0.877191           2.90476   2.90476            1                0.880493   1                           0.890995            0.0285714       0.0904762                  190.476   190.476\n",
              "    4        0.0409836                   0.868725           2.90476   2.90476            1                0.872493   1                           0.886555            0.0285714       0.119048                   190.476   190.476\n",
              "    5        0.0508197                   0.862289           2.42063   2.81106            0.833333         0.865125   0.967742                    0.882407            0.0238095       0.142857                   142.063   181.106\n",
              "    6        0.1                         0.823549           2.80794   2.80952            0.966667         0.84427    0.967213                    0.863651            0.138095        0.280952                   180.794   180.952\n",
              "    7        0.15082                     0.756296           2.62366   2.74689            0.903226         0.795079   0.945652                    0.840545            0.133333        0.414286                   162.366   174.689\n",
              "    8        0.2                         0.649394           2.13016   2.59524            0.733333         0.706852   0.893443                    0.80767             0.104762        0.519048                   113.016   159.524\n",
              "    9        0.3                         0.48836            2.09524   2.42857            0.721311         0.559486   0.836066                    0.724942            0.209524        0.728571                   109.524   142.857\n",
              "    10       0.4                         0.336406           1.28571   2.14286            0.442623         0.424603   0.737705                    0.649857            0.128571        0.857143                   28.5714   114.286\n",
              "    11       0.5                         0.223413           0.809524  1.87619            0.278689         0.283266   0.645902                    0.576539            0.0809524       0.938095                   -19.0476  87.619\n",
              "    12       0.6                         0.164101           0.52381   1.65079            0.180328         0.19297    0.568306                    0.512611            0.052381        0.990476                   -47.619   65.0794\n",
              "    13       0.7                         0.124562           0.047619  1.42177            0.0163934        0.143041   0.489461                    0.459815            0.0047619       0.995238                   -95.2381  42.1769\n",
              "    14       0.8                         0.0986564          0.047619  1.25               0.0163934        0.110373   0.430328                    0.416135            0.0047619       1                          -95.2381  25\n",
              "    15       0.9                         0.0848321          0         1.11111            0                0.0914793  0.382514                    0.380062            0               1                          -100      11.1111\n",
              "    16       1                           0.0727939          0         1                  0                0.0788404  0.344262                    0.34994             0               1                          -100      0"
            ]
          },
          "metadata": {
            "tags": []
          }
        },
        {
          "output_type": "stream",
          "text": [
            "\n",
            "\n",
            "ModelMetricsBinomialGLM: stackedensemble\n",
            "** Reported on cross-validation data. **\n",
            "\n",
            "MSE: 0.16341894668726312\n",
            "RMSE: 0.40425109361294637\n",
            "LogLoss: 0.49208923191420917\n",
            "Null degrees of freedom: 609\n",
            "Residual degrees of freedom: 606\n",
            "Null deviance: 789.2199730521723\n",
            "Residual deviance: 600.3488629353353\n",
            "AIC: 608.3488629353353\n",
            "AUC: 0.8287738095238094\n",
            "pr_auc: 0.6613505255739248\n",
            "Gini: 0.6575476190476188\n",
            "Confusion Matrix (Act/Pred) for max f1 @ threshold = 0.20591170095782885: \n"
          ],
          "name": "stdout"
        },
        {
          "output_type": "display_data",
          "data": {
            "text/html": [
              "<div style=\"overflow:auto\"><table style=\"width:50%\"><tr><td><b></b></td>\n",
              "<td><b>0</b></td>\n",
              "<td><b>1</b></td>\n",
              "<td><b>Error</b></td>\n",
              "<td><b>Rate</b></td></tr>\n",
              "<tr><td>0</td>\n",
              "<td>263.0</td>\n",
              "<td>137.0</td>\n",
              "<td>0.3425</td>\n",
              "<td> (137.0/400.0)</td></tr>\n",
              "<tr><td>1</td>\n",
              "<td>25.0</td>\n",
              "<td>185.0</td>\n",
              "<td>0.119</td>\n",
              "<td> (25.0/210.0)</td></tr>\n",
              "<tr><td>Total</td>\n",
              "<td>288.0</td>\n",
              "<td>322.0</td>\n",
              "<td>0.2656</td>\n",
              "<td> (162.0/610.0)</td></tr></table></div>"
            ],
            "text/plain": [
              "       0    1    Error    Rate\n",
              "-----  ---  ---  -------  -------------\n",
              "0      263  137  0.3425   (137.0/400.0)\n",
              "1      25   185  0.119    (25.0/210.0)\n",
              "Total  288  322  0.2656   (162.0/610.0)"
            ]
          },
          "metadata": {
            "tags": []
          }
        },
        {
          "output_type": "stream",
          "text": [
            "Maximum Metrics: Maximum metrics at their respective thresholds\n",
            "\n"
          ],
          "name": "stdout"
        },
        {
          "output_type": "display_data",
          "data": {
            "text/html": [
              "<div style=\"overflow:auto\"><table style=\"width:50%\"><tr><td><b>metric</b></td>\n",
              "<td><b>threshold</b></td>\n",
              "<td><b>value</b></td>\n",
              "<td><b>idx</b></td></tr>\n",
              "<tr><td>max f1</td>\n",
              "<td>0.2059117</td>\n",
              "<td>0.6954887</td>\n",
              "<td>266.0</td></tr>\n",
              "<tr><td>max f2</td>\n",
              "<td>0.1389098</td>\n",
              "<td>0.8087649</td>\n",
              "<td>319.0</td></tr>\n",
              "<tr><td>max f0point5</td>\n",
              "<td>0.6588739</td>\n",
              "<td>0.6484150</td>\n",
              "<td>102.0</td></tr>\n",
              "<tr><td>max accuracy</td>\n",
              "<td>0.4017379</td>\n",
              "<td>0.7557377</td>\n",
              "<td>183.0</td></tr>\n",
              "<tr><td>max precision</td>\n",
              "<td>0.7297870</td>\n",
              "<td>0.8111111</td>\n",
              "<td>76.0</td></tr>\n",
              "<tr><td>max recall</td>\n",
              "<td>0.0842281</td>\n",
              "<td>1.0</td>\n",
              "<td>381.0</td></tr>\n",
              "<tr><td>max specificity</td>\n",
              "<td>0.9082364</td>\n",
              "<td>0.9975</td>\n",
              "<td>0.0</td></tr>\n",
              "<tr><td>max absolute_mcc</td>\n",
              "<td>0.2059117</td>\n",
              "<td>0.5124633</td>\n",
              "<td>266.0</td></tr>\n",
              "<tr><td>max min_per_class_accuracy</td>\n",
              "<td>0.3126066</td>\n",
              "<td>0.755</td>\n",
              "<td>217.0</td></tr>\n",
              "<tr><td>max mean_per_class_accuracy</td>\n",
              "<td>0.2059117</td>\n",
              "<td>0.7692262</td>\n",
              "<td>266.0</td></tr></table></div>"
            ],
            "text/plain": [
              "metric                       threshold    value     idx\n",
              "---------------------------  -----------  --------  -----\n",
              "max f1                       0.205912     0.695489  266\n",
              "max f2                       0.13891      0.808765  319\n",
              "max f0point5                 0.658874     0.648415  102\n",
              "max accuracy                 0.401738     0.755738  183\n",
              "max precision                0.729787     0.811111  76\n",
              "max recall                   0.0842281    1         381\n",
              "max specificity              0.908236     0.9975    0\n",
              "max absolute_mcc             0.205912     0.512463  266\n",
              "max min_per_class_accuracy   0.312607     0.755     217\n",
              "max mean_per_class_accuracy  0.205912     0.769226  266"
            ]
          },
          "metadata": {
            "tags": []
          }
        },
        {
          "output_type": "stream",
          "text": [
            "Gains/Lift Table: Avg response rate: 34.43 %, avg score: 34.47 %\n",
            "\n"
          ],
          "name": "stdout"
        },
        {
          "output_type": "display_data",
          "data": {
            "text/html": [
              "<div style=\"overflow:auto\"><table style=\"width:50%\"><tr><td><b></b></td>\n",
              "<td><b>group</b></td>\n",
              "<td><b>cumulative_data_fraction</b></td>\n",
              "<td><b>lower_threshold</b></td>\n",
              "<td><b>lift</b></td>\n",
              "<td><b>cumulative_lift</b></td>\n",
              "<td><b>response_rate</b></td>\n",
              "<td><b>score</b></td>\n",
              "<td><b>cumulative_response_rate</b></td>\n",
              "<td><b>cumulative_score</b></td>\n",
              "<td><b>capture_rate</b></td>\n",
              "<td><b>cumulative_capture_rate</b></td>\n",
              "<td><b>gain</b></td>\n",
              "<td><b>cumulative_gain</b></td></tr>\n",
              "<tr><td></td>\n",
              "<td>1</td>\n",
              "<td>0.0114754</td>\n",
              "<td>0.8896732</td>\n",
              "<td>1.2448980</td>\n",
              "<td>1.2448980</td>\n",
              "<td>0.4285714</td>\n",
              "<td>0.8994306</td>\n",
              "<td>0.4285714</td>\n",
              "<td>0.8994306</td>\n",
              "<td>0.0142857</td>\n",
              "<td>0.0142857</td>\n",
              "<td>24.4897959</td>\n",
              "<td>24.4897959</td></tr>\n",
              "<tr><td></td>\n",
              "<td>2</td>\n",
              "<td>0.0213115</td>\n",
              "<td>0.8714467</td>\n",
              "<td>2.9047619</td>\n",
              "<td>2.0109890</td>\n",
              "<td>1.0</td>\n",
              "<td>0.8797197</td>\n",
              "<td>0.6923077</td>\n",
              "<td>0.8903333</td>\n",
              "<td>0.0285714</td>\n",
              "<td>0.0428571</td>\n",
              "<td>190.4761905</td>\n",
              "<td>101.0989011</td></tr>\n",
              "<tr><td></td>\n",
              "<td>3</td>\n",
              "<td>0.0311475</td>\n",
              "<td>0.8567915</td>\n",
              "<td>2.4206349</td>\n",
              "<td>2.1403509</td>\n",
              "<td>0.8333333</td>\n",
              "<td>0.8639579</td>\n",
              "<td>0.7368421</td>\n",
              "<td>0.8820042</td>\n",
              "<td>0.0238095</td>\n",
              "<td>0.0666667</td>\n",
              "<td>142.0634921</td>\n",
              "<td>114.0350877</td></tr>\n",
              "<tr><td></td>\n",
              "<td>4</td>\n",
              "<td>0.0409836</td>\n",
              "<td>0.8471525</td>\n",
              "<td>1.9365079</td>\n",
              "<td>2.0914286</td>\n",
              "<td>0.6666667</td>\n",
              "<td>0.8528464</td>\n",
              "<td>0.72</td>\n",
              "<td>0.8750063</td>\n",
              "<td>0.0190476</td>\n",
              "<td>0.0857143</td>\n",
              "<td>93.6507937</td>\n",
              "<td>109.1428571</td></tr>\n",
              "<tr><td></td>\n",
              "<td>5</td>\n",
              "<td>0.0508197</td>\n",
              "<td>0.8397589</td>\n",
              "<td>2.4206349</td>\n",
              "<td>2.1551459</td>\n",
              "<td>0.8333333</td>\n",
              "<td>0.8431156</td>\n",
              "<td>0.7419355</td>\n",
              "<td>0.8688339</td>\n",
              "<td>0.0238095</td>\n",
              "<td>0.1095238</td>\n",
              "<td>142.0634921</td>\n",
              "<td>115.5145929</td></tr>\n",
              "<tr><td></td>\n",
              "<td>6</td>\n",
              "<td>0.1</td>\n",
              "<td>0.7918076</td>\n",
              "<td>2.4206349</td>\n",
              "<td>2.2857143</td>\n",
              "<td>0.8333333</td>\n",
              "<td>0.8175604</td>\n",
              "<td>0.7868852</td>\n",
              "<td>0.8436175</td>\n",
              "<td>0.1190476</td>\n",
              "<td>0.2285714</td>\n",
              "<td>142.0634921</td>\n",
              "<td>128.5714286</td></tr>\n",
              "<tr><td></td>\n",
              "<td>7</td>\n",
              "<td>0.1508197</td>\n",
              "<td>0.7278791</td>\n",
              "<td>2.4362519</td>\n",
              "<td>2.3364389</td>\n",
              "<td>0.8387097</td>\n",
              "<td>0.7576250</td>\n",
              "<td>0.8043478</td>\n",
              "<td>0.8146417</td>\n",
              "<td>0.1238095</td>\n",
              "<td>0.3523810</td>\n",
              "<td>143.6251920</td>\n",
              "<td>133.6438923</td></tr>\n",
              "<tr><td></td>\n",
              "<td>8</td>\n",
              "<td>0.2</td>\n",
              "<td>0.6488677</td>\n",
              "<td>1.5492063</td>\n",
              "<td>2.1428571</td>\n",
              "<td>0.5333333</td>\n",
              "<td>0.6926848</td>\n",
              "<td>0.7377049</td>\n",
              "<td>0.7846523</td>\n",
              "<td>0.0761905</td>\n",
              "<td>0.4285714</td>\n",
              "<td>54.9206349</td>\n",
              "<td>114.2857143</td></tr>\n",
              "<tr><td></td>\n",
              "<td>9</td>\n",
              "<td>0.3</td>\n",
              "<td>0.4639904</td>\n",
              "<td>1.2857143</td>\n",
              "<td>1.8571429</td>\n",
              "<td>0.4426230</td>\n",
              "<td>0.5510734</td>\n",
              "<td>0.6393443</td>\n",
              "<td>0.7067927</td>\n",
              "<td>0.1285714</td>\n",
              "<td>0.5571429</td>\n",
              "<td>28.5714286</td>\n",
              "<td>85.7142857</td></tr>\n",
              "<tr><td></td>\n",
              "<td>10</td>\n",
              "<td>0.4</td>\n",
              "<td>0.3356161</td>\n",
              "<td>1.6666667</td>\n",
              "<td>1.8095238</td>\n",
              "<td>0.5737705</td>\n",
              "<td>0.4059474</td>\n",
              "<td>0.6229508</td>\n",
              "<td>0.6315814</td>\n",
              "<td>0.1666667</td>\n",
              "<td>0.7238095</td>\n",
              "<td>66.6666667</td>\n",
              "<td>80.9523810</td></tr>\n",
              "<tr><td></td>\n",
              "<td>11</td>\n",
              "<td>0.5</td>\n",
              "<td>0.2363188</td>\n",
              "<td>1.2857143</td>\n",
              "<td>1.7047619</td>\n",
              "<td>0.4426230</td>\n",
              "<td>0.2854094</td>\n",
              "<td>0.5868852</td>\n",
              "<td>0.5623470</td>\n",
              "<td>0.1285714</td>\n",
              "<td>0.8523810</td>\n",
              "<td>28.5714286</td>\n",
              "<td>70.4761905</td></tr>\n",
              "<tr><td></td>\n",
              "<td>12</td>\n",
              "<td>0.6</td>\n",
              "<td>0.1694552</td>\n",
              "<td>0.5238095</td>\n",
              "<td>1.5079365</td>\n",
              "<td>0.1803279</td>\n",
              "<td>0.1949005</td>\n",
              "<td>0.5191257</td>\n",
              "<td>0.5011059</td>\n",
              "<td>0.0523810</td>\n",
              "<td>0.9047619</td>\n",
              "<td>-47.6190476</td>\n",
              "<td>50.7936508</td></tr>\n",
              "<tr><td></td>\n",
              "<td>13</td>\n",
              "<td>0.7</td>\n",
              "<td>0.1325684</td>\n",
              "<td>0.6666667</td>\n",
              "<td>1.3877551</td>\n",
              "<td>0.2295082</td>\n",
              "<td>0.1488315</td>\n",
              "<td>0.4777518</td>\n",
              "<td>0.4507810</td>\n",
              "<td>0.0666667</td>\n",
              "<td>0.9714286</td>\n",
              "<td>-33.3333333</td>\n",
              "<td>38.7755102</td></tr>\n",
              "<tr><td></td>\n",
              "<td>14</td>\n",
              "<td>0.8</td>\n",
              "<td>0.1022112</td>\n",
              "<td>0.1904762</td>\n",
              "<td>1.2380952</td>\n",
              "<td>0.0655738</td>\n",
              "<td>0.1179253</td>\n",
              "<td>0.4262295</td>\n",
              "<td>0.4091740</td>\n",
              "<td>0.0190476</td>\n",
              "<td>0.9904762</td>\n",
              "<td>-80.9523810</td>\n",
              "<td>23.8095238</td></tr>\n",
              "<tr><td></td>\n",
              "<td>15</td>\n",
              "<td>0.9</td>\n",
              "<td>0.0859266</td>\n",
              "<td>0.0476190</td>\n",
              "<td>1.1058201</td>\n",
              "<td>0.0163934</td>\n",
              "<td>0.0937942</td>\n",
              "<td>0.3806922</td>\n",
              "<td>0.3741318</td>\n",
              "<td>0.0047619</td>\n",
              "<td>0.9952381</td>\n",
              "<td>-95.2380952</td>\n",
              "<td>10.5820106</td></tr>\n",
              "<tr><td></td>\n",
              "<td>16</td>\n",
              "<td>1.0</td>\n",
              "<td>0.0724668</td>\n",
              "<td>0.0476190</td>\n",
              "<td>1.0</td>\n",
              "<td>0.0163934</td>\n",
              "<td>0.0797757</td>\n",
              "<td>0.3442623</td>\n",
              "<td>0.3446962</td>\n",
              "<td>0.0047619</td>\n",
              "<td>1.0</td>\n",
              "<td>-95.2380952</td>\n",
              "<td>0.0</td></tr></table></div>"
            ],
            "text/plain": [
              "    group    cumulative_data_fraction    lower_threshold    lift      cumulative_lift    response_rate    score      cumulative_response_rate    cumulative_score    capture_rate    cumulative_capture_rate    gain      cumulative_gain\n",
              "--  -------  --------------------------  -----------------  --------  -----------------  ---------------  ---------  --------------------------  ------------------  --------------  -------------------------  --------  -----------------\n",
              "    1        0.0114754                   0.889673           1.2449    1.2449             0.428571         0.899431   0.428571                    0.899431            0.0142857       0.0142857                  24.4898   24.4898\n",
              "    2        0.0213115                   0.871447           2.90476   2.01099            1                0.87972    0.692308                    0.890333            0.0285714       0.0428571                  190.476   101.099\n",
              "    3        0.0311475                   0.856791           2.42063   2.14035            0.833333         0.863958   0.736842                    0.882004            0.0238095       0.0666667                  142.063   114.035\n",
              "    4        0.0409836                   0.847153           1.93651   2.09143            0.666667         0.852846   0.72                        0.875006            0.0190476       0.0857143                  93.6508   109.143\n",
              "    5        0.0508197                   0.839759           2.42063   2.15515            0.833333         0.843116   0.741935                    0.868834            0.0238095       0.109524                   142.063   115.515\n",
              "    6        0.1                         0.791808           2.42063   2.28571            0.833333         0.81756    0.786885                    0.843617            0.119048        0.228571                   142.063   128.571\n",
              "    7        0.15082                     0.727879           2.43625   2.33644            0.83871          0.757625   0.804348                    0.814642            0.12381         0.352381                   143.625   133.644\n",
              "    8        0.2                         0.648868           1.54921   2.14286            0.533333         0.692685   0.737705                    0.784652            0.0761905       0.428571                   54.9206   114.286\n",
              "    9        0.3                         0.46399            1.28571   1.85714            0.442623         0.551073   0.639344                    0.706793            0.128571        0.557143                   28.5714   85.7143\n",
              "    10       0.4                         0.335616           1.66667   1.80952            0.57377          0.405947   0.622951                    0.631581            0.166667        0.72381                    66.6667   80.9524\n",
              "    11       0.5                         0.236319           1.28571   1.70476            0.442623         0.285409   0.586885                    0.562347            0.128571        0.852381                   28.5714   70.4762\n",
              "    12       0.6                         0.169455           0.52381   1.50794            0.180328         0.1949     0.519126                    0.501106            0.052381        0.904762                   -47.619   50.7937\n",
              "    13       0.7                         0.132568           0.666667  1.38776            0.229508         0.148832   0.477752                    0.450781            0.0666667       0.971429                   -33.3333  38.7755\n",
              "    14       0.8                         0.102211           0.190476  1.2381             0.0655738        0.117925   0.42623                     0.409174            0.0190476       0.990476                   -80.9524  23.8095\n",
              "    15       0.9                         0.0859266          0.047619  1.10582            0.0163934        0.0937942  0.380692                    0.374132            0.0047619       0.995238                   -95.2381  10.582\n",
              "    16       1                           0.0724668          0.047619  1                  0.0163934        0.0797757  0.344262                    0.344696            0.0047619       1                          -95.2381  0"
            ]
          },
          "metadata": {
            "tags": []
          }
        },
        {
          "output_type": "stream",
          "text": [
            "\n"
          ],
          "name": "stdout"
        },
        {
          "output_type": "execute_result",
          "data": {
            "text/plain": [
              ""
            ]
          },
          "metadata": {
            "tags": []
          },
          "execution_count": 9
        }
      ]
    },
    {
      "cell_type": "code",
      "metadata": {
        "id": "w_6qZ5gygbL6",
        "colab_type": "code",
        "outputId": "6492fe0a-b193-428a-dcd6-b463db1f74ae",
        "colab": {
          "base_uri": "https://localhost:8080/",
          "height": 34
        }
      },
      "source": [
        "# If you need to generate predictions on a test set, you can make\n",
        "# predictions directly on the `\"H2OAutoML\"` object, or on the leader\n",
        "# model object directly\n",
        "preds = aml.predict(test)"
      ],
      "execution_count": 0,
      "outputs": [
        {
          "output_type": "stream",
          "text": [
            "stackedensemble prediction progress: |████████████████████████████████████| 100%\n"
          ],
          "name": "stdout"
        }
      ]
    }
  ]
}